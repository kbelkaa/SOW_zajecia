{
  "nbformat": 4,
  "nbformat_minor": 0,
  "metadata": {
    "colab": {
      "provenance": []
    },
    "kernelspec": {
      "name": "python3",
      "display_name": "Python 3"
    },
    "language_info": {
      "name": "python"
    }
  },
  "cells": [
    {
      "cell_type": "code",
      "execution_count": 1,
      "metadata": {
        "colab": {
          "base_uri": "https://localhost:8080/"
        },
        "id": "Qfd0YYK_4jPx",
        "outputId": "45ec6738-c0f7-4853-ff1e-621031dcf1aa"
      },
      "outputs": [
        {
          "output_type": "stream",
          "name": "stdout",
          "text": [
            "Collecting db-sqlite3\n",
            "  Downloading db-sqlite3-0.0.1.tar.gz (1.4 kB)\n",
            "  Preparing metadata (setup.py) ... \u001b[?25l\u001b[?25hdone\n",
            "Collecting db (from db-sqlite3)\n",
            "  Downloading db-0.1.1.tar.gz (3.4 kB)\n",
            "  Preparing metadata (setup.py) ... \u001b[?25l\u001b[?25hdone\n",
            "Collecting antiorm (from db->db-sqlite3)\n",
            "  Downloading antiorm-1.2.1.tar.gz (171 kB)\n",
            "\u001b[2K     \u001b[90m━━━━━━━━━━━━━━━━━━━━━━━━━━━━━━━━━━━━━━━━\u001b[0m \u001b[32m172.0/172.0 kB\u001b[0m \u001b[31m3.2 MB/s\u001b[0m eta \u001b[36m0:00:00\u001b[0m\n",
            "\u001b[?25h  Preparing metadata (setup.py) ... \u001b[?25l\u001b[?25hdone\n",
            "Building wheels for collected packages: db-sqlite3, db, antiorm\n",
            "  Building wheel for db-sqlite3 (setup.py) ... \u001b[?25l\u001b[?25hdone\n",
            "  Created wheel for db-sqlite3: filename=db_sqlite3-0.0.1-py3-none-any.whl size=1771 sha256=2687e792f3cd4c2273c083d4b8adb3dd3818a5309eff7c9ca7e693addea67b62\n",
            "  Stored in directory: /root/.cache/pip/wheels/a6/b7/83/e941e0a0e04f417982e718ae7295d1e82b5f2863a1c51edd71\n",
            "  Building wheel for db (setup.py) ... \u001b[?25l\u001b[?25hdone\n",
            "  Created wheel for db: filename=db-0.1.1-py3-none-any.whl size=3875 sha256=7be8d3e43d31890c31a5ec3a58cdc4d3ae1672b9a015f469f5eca2255422f6d6\n",
            "  Stored in directory: /root/.cache/pip/wheels/7d/e4/df/bc55b93af204ab098d9effec76f6889ad12d7ad74e833c4910\n",
            "  Building wheel for antiorm (setup.py) ... \u001b[?25l\u001b[?25hdone\n",
            "  Created wheel for antiorm: filename=antiorm-1.2.1-py3-none-any.whl size=31665 sha256=c6a9cbf6fc0bc8dee944eed46c44ccbd8942b5a8df08a8bfbd7ee5652a8e3503\n",
            "  Stored in directory: /root/.cache/pip/wheels/30/9f/7e/b7c95b391cfa77a9e722d359e9c669cf6c8d798d748aec5091\n",
            "Successfully built db-sqlite3 db antiorm\n",
            "Installing collected packages: antiorm, db, db-sqlite3\n",
            "Successfully installed antiorm-1.2.1 db-0.1.1 db-sqlite3-0.0.1\n"
          ]
        }
      ],
      "source": [
        "!pip install db-sqlite3"
      ]
    },
    {
      "cell_type": "code",
      "source": [
        "import sqlite3"
      ],
      "metadata": {
        "id": "qnWTSLFI4k0E"
      },
      "execution_count": 2,
      "outputs": []
    },
    {
      "cell_type": "code",
      "source": [
        "conn = sqlite3.connect(\"baza_rossmann.db\")"
      ],
      "metadata": {
        "id": "mAJH6Q1o4msy"
      },
      "execution_count": 3,
      "outputs": []
    },
    {
      "cell_type": "code",
      "source": [
        "cursor = conn.cursor()"
      ],
      "metadata": {
        "id": "n7kVaqMg4o3i"
      },
      "execution_count": 4,
      "outputs": []
    },
    {
      "cell_type": "code",
      "source": [
        "database_creation_query = '''\n",
        "CREATE TABLE if not exists kremy (\n",
        "\n",
        "  id INTEGER PRIMARY KEY,\n",
        "  marka TEXT NOT NULL,\n",
        "  pojemnosc TEXT NOT NULL,\n",
        "  cena TEXT NOT NULL\n",
        "\n",
        ")\n",
        "'''"
      ],
      "metadata": {
        "id": "DUIj2PeV4rCL"
      },
      "execution_count": 5,
      "outputs": []
    },
    {
      "cell_type": "code",
      "source": [
        "cursor.execute(database_creation_query)"
      ],
      "metadata": {
        "colab": {
          "base_uri": "https://localhost:8080/"
        },
        "id": "0ieCDjCH4tdv",
        "outputId": "e552818e-b8ab-4c6e-ecd8-ef80dc7626a9"
      },
      "execution_count": 6,
      "outputs": [
        {
          "output_type": "execute_result",
          "data": {
            "text/plain": [
              "<sqlite3.Cursor at 0x79e07639fec0>"
            ]
          },
          "metadata": {},
          "execution_count": 6
        }
      ]
    },
    {
      "cell_type": "code",
      "source": [
        "cursor.execute(\"INSERT INTO kremy (marka,pojemnosc,cena) VALUES ('miya', '40ml', '35,99PLN')\")\n",
        "cursor.execute(\"INSERT INTO kremy (marka,pojemnosc,cena) VALUES ('vianek', '50ml', '26,99PLN')\")\n",
        "cursor.execute(\"INSERT INTO kremy (marka,pojemnosc,cena) VALUES ('ziaja', '100ml', '10,99PLN')\")"
      ],
      "metadata": {
        "colab": {
          "base_uri": "https://localhost:8080/"
        },
        "id": "kyF6JwDD4w5m",
        "outputId": "c1703e53-f39e-4057-e1b4-dca79ba85cc0"
      },
      "execution_count": 7,
      "outputs": [
        {
          "output_type": "execute_result",
          "data": {
            "text/plain": [
              "<sqlite3.Cursor at 0x79e07639fec0>"
            ]
          },
          "metadata": {},
          "execution_count": 7
        }
      ]
    },
    {
      "cell_type": "code",
      "source": [
        "conn.commit()"
      ],
      "metadata": {
        "id": "f2lXNmSP40cR"
      },
      "execution_count": 8,
      "outputs": []
    },
    {
      "cell_type": "code",
      "source": [
        "#cursor komunikuje sie z bazą i mówi \"daj mi wszytsko\" a baza mówi \"okej, daje ci wszytsko\"\n",
        "cursor.execute(\"SELECT * FROM kremy\")\n",
        "\n",
        "#no to cursor mowi to sie nimi ze mną podziel\n",
        "wyniki = cursor.fetchall()\n",
        "for elem in wyniki:\n",
        "  print(elem)"
      ],
      "metadata": {
        "colab": {
          "base_uri": "https://localhost:8080/"
        },
        "id": "uAfSzQU042kQ",
        "outputId": "a283f16e-2843-45c8-bff3-3f4cc6ed43fb"
      },
      "execution_count": 9,
      "outputs": [
        {
          "output_type": "stream",
          "name": "stdout",
          "text": [
            "(1, 'miya', '40ml', '35,99PLN')\n",
            "(2, 'vianek', '50ml', '26,99PLN')\n",
            "(3, 'ziaja', '100ml', '10,99PLN')\n"
          ]
        }
      ]
    }
  ]
}